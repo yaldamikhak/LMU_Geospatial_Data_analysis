{
 "cells": [
  {
   "cell_type": "code",
   "execution_count": null,
   "metadata": {
    "collapsed": true,
    "pycharm": {
     "name": "#%%\n"
    }
   },
   "outputs": [],
   "source": [
    "def pull_building_osm(location):\n",
    "    import osmnx as ox\n",
    "    tags = {'building': 'yes'}\n",
    "    place_name = location\n",
    "    buildings = ox.geometries_from_place(place_name, tags)\n",
    "    return buildings"
   ]
  },
  {
   "cell_type": "code",
   "execution_count": null,
   "outputs": [],
   "source": [
    "def slr_building(building, raster_path, name ):\n",
    "    import rasterio\n",
    "    from rasterstats import zonal_stats\n",
    "    import pandas as pd\n",
    "    import geopandas as gpd\n",
    "    raster = rasterio.open(raster_path)\n",
    "    #point = building['geometry'].representative_point()\n",
    "    building_footprint = building.to_crs(crs=raster.crs.data)\n",
    "    zs = zonal_stats(building_footprint, raster_path, stats=['max'])\n",
    "    building_footprint = building_footprint.reset_index(drop=True)\n",
    "    df1 = pd.DataFrame(zs)\n",
    "    building_footprint = building_footprint.assign(name_column=df1['max'])\n",
    "    building_footprint.rename(columns = {'name_column':f'{name}'}, inplace = True)\n",
    "    building_non_na = building_footprint[building_footprint[f'{name}'].notna()]\n",
    "    building_non_na = building_non_na.explode()\n",
    "    building_non_na = building_non_na.to_crs(\"EPSG:4326\")\n",
    "    building_non_na = gpd.GeoDataFrame(building_non_na, geometry='geometry')\n",
    "    return building_non_na"
   ],
   "metadata": {
    "collapsed": false,
    "pycharm": {
     "name": "#%%\n"
    }
   }
  },
  {
   "cell_type": "code",
   "execution_count": null,
   "outputs": [],
   "source": [
    "la_building = pull_building_osm(location='Los Angeles County, California, United States of America')\n",
    "la07_slr200_w100_path = r'LA07_flddepth_SLR200_W100.tif'\n",
    "la07_slr200_w100 = slr_building(building=la_building, raster_path=la07_slr200_w100_path, name='slr200_w100').to_file('data/la06_slr200_w100.shp')"
   ],
   "metadata": {
    "collapsed": false,
    "pycharm": {
     "name": "#%%\n"
    }
   }
  }
 ],
 "metadata": {
  "kernelspec": {
   "display_name": "Python 3",
   "language": "python",
   "name": "python3"
  },
  "language_info": {
   "codemirror_mode": {
    "name": "ipython",
    "version": 2
   },
   "file_extension": ".py",
   "mimetype": "text/x-python",
   "name": "python",
   "nbconvert_exporter": "python",
   "pygments_lexer": "ipython2",
   "version": "2.7.6"
  }
 },
 "nbformat": 4,
 "nbformat_minor": 0
}